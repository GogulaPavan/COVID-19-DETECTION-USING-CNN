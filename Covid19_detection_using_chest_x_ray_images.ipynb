{
  "nbformat": 4,
  "nbformat_minor": 0,
  "metadata": {
    "colab": {
      "provenance": []
    },
    "kernelspec": {
      "name": "python3",
      "display_name": "Python 3"
    },
    "language_info": {
      "name": "python"
    },
    "accelerator": "TPU"
  },
  "cells": [
    {
      "cell_type": "code",
      "execution_count": 1,
      "metadata": {
        "id": "zDyKScXtEMtD"
      },
      "outputs": [],
      "source": [
        "!pip -q install kaggle"
      ]
    },
    {
      "cell_type": "code",
      "source": [
        "!mkdir ~/.kaggle"
      ],
      "metadata": {
        "id": "0VbraoY7EVdQ"
      },
      "execution_count": 2,
      "outputs": []
    },
    {
      "cell_type": "code",
      "source": [
        "!cp kaggle.json ~/.kaggle"
      ],
      "metadata": {
        "id": "ctHQ-QvIEVfX"
      },
      "execution_count": 3,
      "outputs": []
    },
    {
      "cell_type": "code",
      "source": [
        "!kaggle datasets download -d fusicfenta/chest-xray-for-covid19-detection"
      ],
      "metadata": {
        "colab": {
          "base_uri": "https://localhost:8080/"
        },
        "id": "kem4a4RnEVhj",
        "outputId": "3b8f9cea-958e-49ad-8235-81c077700db8"
      },
      "execution_count": 4,
      "outputs": [
        {
          "output_type": "stream",
          "name": "stdout",
          "text": [
            "Warning: Your Kaggle API key is readable by other users on this system! To fix this, you can run 'chmod 600 /root/.kaggle/kaggle.json'\n",
            "Downloading chest-xray-for-covid19-detection.zip to /content\n",
            " 96% 169M/176M [00:00<00:00, 203MB/s]\n",
            "100% 176M/176M [00:01<00:00, 184MB/s]\n"
          ]
        }
      ]
    },
    {
      "cell_type": "code",
      "source": [
        "!unzip \"/content/chest-xray-for-covid19-detection.zip\""
      ],
      "metadata": {
        "colab": {
          "base_uri": "https://localhost:8080/"
        },
        "id": "qBPk_UqWEVj2",
        "outputId": "ad5cb474-35e8-41f0-8c37-1d823a4ddb73"
      },
      "execution_count": 5,
      "outputs": [
        {
          "output_type": "stream",
          "name": "stdout",
          "text": [
            "Archive:  /content/chest-xray-for-covid19-detection.zip\n",
            "  inflating: Dataset/Prediction/NORMAL2-IM-0338-0001.jpeg  \n",
            "  inflating: Dataset/Prediction/NORMAL2-IM-0339-0001.jpeg  \n",
            "  inflating: Dataset/Prediction/NORMAL2-IM-0340-0001.jpeg  \n",
            "  inflating: Dataset/Prediction/NORMAL2-IM-0341-0001.jpeg  \n",
            "  inflating: Dataset/Prediction/NORMAL2-IM-0352-0001.jpeg  \n",
            "  inflating: Dataset/Prediction/NORMAL2-IM-0353-0001.jpeg  \n",
            "  inflating: Dataset/Prediction/NORMAL2-IM-0354-0001.jpeg  \n",
            "  inflating: Dataset/Prediction/NORMAL2-IM-0357-0001.jpeg  \n",
            "  inflating: Dataset/Prediction/NORMAL2-IM-0370-0001.jpeg  \n",
            "  inflating: Dataset/Prediction/NORMAL2-IM-0372-0001.jpeg  \n",
            "  inflating: Dataset/Prediction/NORMAL2-IM-0373-0001.jpeg  \n",
            "  inflating: Dataset/Prediction/NORMAL2-IM-0374-0001.jpeg  \n",
            "  inflating: Dataset/Prediction/SARS-10.1148rg.242035193-g04mr34g0-Fig8a-day0.jpeg  \n",
            "  inflating: Dataset/Prediction/SARS-10.1148rg.242035193-g04mr34g0-Fig8b-day5.jpeg  \n",
            "  inflating: Dataset/Prediction/SARS-10.1148rg.242035193-g04mr34g0-Fig8c-day10.jpeg  \n",
            "  inflating: Dataset/Prediction/SARS-10.1148rg.242035193-g04mr34g04a-Fig4a-day7.jpeg  \n",
            "  inflating: Dataset/Prediction/SARS-10.1148rg.242035193-g04mr34g04b-Fig4b-day12.jpeg  \n",
            "  inflating: Dataset/Prediction/SARS-10.1148rg.242035193-g04mr34g05x-Fig5-day9.jpeg  \n",
            "  inflating: Dataset/Prediction/ryct.2020200028.fig1a.jpeg  \n",
            "  inflating: Dataset/Prediction/ryct.2020200034.fig2.jpeg  \n",
            "  inflating: Dataset/Prediction/ryct.2020200034.fig5-day0.jpeg  \n",
            "  inflating: Dataset/Prediction/ryct.2020200034.fig5-day4.jpeg  \n",
            "  inflating: Dataset/Prediction/ryct.2020200034.fig5-day7.jpeg  \n",
            "  inflating: Dataset/Train/Covid/01E392EE-69F9-4E33-BFCE-E5C968654078.jpeg  \n",
            "  inflating: Dataset/Train/Covid/03BF7561-A9BA-4C3C-B8A0-D3E585F73F3C.jpeg  \n",
            "  inflating: Dataset/Train/Covid/1-s2.0-S0140673620303706-fx1_lrg.jpg  \n",
            "  inflating: Dataset/Train/Covid/1-s2.0-S0929664620300449-gr2_lrg-a.jpg  \n",
            "  inflating: Dataset/Train/Covid/1-s2.0-S0929664620300449-gr2_lrg-b.jpg  \n",
            "  inflating: Dataset/Train/Covid/1-s2.0-S0929664620300449-gr2_lrg-c.jpg  \n",
            "  inflating: Dataset/Train/Covid/1-s2.0-S0929664620300449-gr2_lrg-d.jpg  \n",
            "  inflating: Dataset/Train/Covid/1-s2.0-S1684118220300608-main.pdf-001.jpg  \n",
            "  inflating: Dataset/Train/Covid/1-s2.0-S1684118220300608-main.pdf-002.jpg  \n",
            "  inflating: Dataset/Train/Covid/1-s2.0-S1684118220300682-main.pdf-002-a1.png  \n",
            "  inflating: Dataset/Train/Covid/1-s2.0-S1684118220300682-main.pdf-002-a2.png  \n",
            "  inflating: Dataset/Train/Covid/1-s2.0-S1684118220300682-main.pdf-003-b1.png  \n",
            "  inflating: Dataset/Train/Covid/1-s2.0-S1684118220300682-main.pdf-003-b2.png  \n",
            "  inflating: Dataset/Train/Covid/1.CXRCTThoraximagesofCOVID-19fromSingapore.pdf-000-fig1a.png  \n",
            "  inflating: Dataset/Train/Covid/1.CXRCTThoraximagesofCOVID-19fromSingapore.pdf-000-fig1b.png  \n",
            "  inflating: Dataset/Train/Covid/1.CXRCTThoraximagesofCOVID-19fromSingapore.pdf-001-fig2a.png  \n",
            "  inflating: Dataset/Train/Covid/1.CXRCTThoraximagesofCOVID-19fromSingapore.pdf-001-fig2b.png  \n",
            "  inflating: Dataset/Train/Covid/1.CXRCTThoraximagesofCOVID-19fromSingapore.pdf-002-fig3a.png  \n",
            "  inflating: Dataset/Train/Covid/1.CXRCTThoraximagesofCOVID-19fromSingapore.pdf-002-fig3b.png  \n",
            "  inflating: Dataset/Train/Covid/1.CXRCTThoraximagesofCOVID-19fromSingapore.pdf-003-fig4a.png  \n",
            "  inflating: Dataset/Train/Covid/1.CXRCTThoraximagesofCOVID-19fromSingapore.pdf-003-fig4b.png  \n",
            "  inflating: Dataset/Train/Covid/1312A392-67A3-4EBF-9319-810CF6DA5EF6.jpeg  \n",
            "  inflating: Dataset/Train/Covid/16654_1_1.png  \n",
            "  inflating: Dataset/Train/Covid/16654_2_1.jpg  \n",
            "  inflating: Dataset/Train/Covid/16654_4_1.jpg  \n",
            "  inflating: Dataset/Train/Covid/16660_1_1.jpg  \n",
            "  inflating: Dataset/Train/Covid/16660_2_1.jpg  \n",
            "  inflating: Dataset/Train/Covid/16660_3_1.jpg  \n",
            "  inflating: Dataset/Train/Covid/16660_4_1.jpg  \n",
            "  inflating: Dataset/Train/Covid/16663_1_1.jpg  \n",
            "  inflating: Dataset/Train/Covid/16664_1_1.jpg  \n",
            "  inflating: Dataset/Train/Covid/16669_1_1.jpeg  \n",
            "  inflating: Dataset/Train/Covid/16669_3_1.jpeg  \n",
            "  inflating: Dataset/Train/Covid/16672_1_1.jpg  \n",
            "  inflating: Dataset/Train/Covid/16708_1_1.jpg  \n",
            "  inflating: Dataset/Train/Covid/16708_4_1.jpg  \n",
            "  inflating: Dataset/Train/Covid/16708_5_1.jpg  \n",
            "  inflating: Dataset/Train/Covid/1B734A89-A1BF-49A8-A1D3-66FAFA4FAC5D.jpeg  \n",
            "  inflating: Dataset/Train/Covid/2-chest-filmc.jpg  \n",
            "  inflating: Dataset/Train/Covid/23E99E2E-447C-46E5-8EB2-D35D12473C39.png  \n",
            "  inflating: Dataset/Train/Covid/2966893D-5DDF-4B68-9E2B-4979D5956C8E.jpeg  \n",
            "  inflating: Dataset/Train/Covid/2C26F453-AF3B-4517-BB9E-802CF2179543.jpeg  \n",
            "  inflating: Dataset/Train/Covid/31BA3780-2323-493F-8AED-62081B9C383B.jpeg  \n",
            "  inflating: Dataset/Train/Covid/353889E0-A1E8-4F9E-A0B8-F24F36BCFBFB.jpeg  \n",
            "  inflating: Dataset/Train/Covid/4-x-day1.jpg  \n",
            "  inflating: Dataset/Train/Covid/41591_2020_819_Fig1_HTML.webp-day10.png  \n",
            "  inflating: Dataset/Train/Covid/41591_2020_819_Fig1_HTML.webp-day5.png  \n",
            "  inflating: Dataset/Train/Covid/4e43e48d52c9e2d4c6c1fb9bc1544f_jumbo.jpeg  \n",
            "  inflating: Dataset/Train/Covid/53EC07C9-5CC6-4BE4-9B6F-D7B0D72AAA7E.jpeg  \n",
            "  inflating: Dataset/Train/Covid/58cb9263f16e94305c730685358e4e_jumbo.jpeg  \n",
            "  inflating: Dataset/Train/Covid/6C94A287-C059-46A0-8600-AFB95F4727B7.jpeg  \n",
            "  inflating: Dataset/Train/Covid/6CB4EFC6-68FA-4CD5-940C-BEFA8DAFE9A7.jpeg  \n",
            "  inflating: Dataset/Train/Covid/6b3bdbc31f65230b8cdcc3cef5f8ba8a-40ac-0.jpg  \n",
            "  inflating: Dataset/Train/Covid/6b44464d-73a7-4cf3-bbb6-ffe7168300e3.annot.original.jpeg  \n",
            "  inflating: Dataset/Train/Covid/7-fatal-covid19.jpg  \n",
            "  inflating: Dataset/Train/Covid/7AF6C1AF-D249-4BD2-8C26-449304105D03.jpeg  \n",
            "  inflating: Dataset/Train/Covid/7C69C012-7479-493F-8722-ABC29C60A2DD.jpeg  \n",
            "  inflating: Dataset/Train/Covid/80446565-E090-4187-A031-9D3CEAA586C8.jpeg  \n",
            "  inflating: Dataset/Train/Covid/85E52EB3-56E9-4D67-82DA-DEA247C82886.jpeg  \n",
            "  inflating: Dataset/Train/Covid/88de9d8c39e946abd495b37cd07d89e5-2ee6-0.jpg  \n",
            "  inflating: Dataset/Train/Covid/88de9d8c39e946abd495b37cd07d89e5-6531-0.jpg  \n",
            "  inflating: Dataset/Train/Covid/8FDE8DBA-CFBD-4B4C-B1A4-6F36A93B7E87.jpeg  \n",
            "  inflating: Dataset/Train/Covid/93FE0BB1-022D-4F24-9727-987A07975FFB.jpeg  \n",
            "  inflating: Dataset/Train/Covid/9C34AF49-E589-44D5-92D3-168B3B04E4A6.jpeg  \n",
            "  inflating: Dataset/Train/Covid/9fdd3c3032296fd04d2cad5d9070d4_jumbo.jpeg  \n",
            "  inflating: Dataset/Train/Covid/AR-1.jpg  \n",
            "  inflating: Dataset/Train/Covid/AR-2.jpg  \n",
            "  inflating: Dataset/Train/Covid/B2D20576-00B7-4519-A415-72DE29C90C34.jpeg  \n",
            "  inflating: Dataset/Train/Covid/CD50BA96-6982-4C80-AE7B-5F67ACDBFA56.jpeg  \n",
            "  inflating: Dataset/Train/Covid/E63574A7-4188-4C8D-8D17-9D67A18A1AFA.jpeg  \n",
            "  inflating: Dataset/Train/Covid/F2DE909F-E19C-4900-92F5-8F435B031AC6.jpeg  \n",
            "  inflating: Dataset/Train/Covid/F4341CE7-73C9-45C6-99C8-8567A5484B63.jpeg  \n",
            "  inflating: Dataset/Train/Covid/F63AB6CE-1968-4154-A70F-913AF154F53D.jpeg  \n",
            "  inflating: Dataset/Train/Covid/FE9F9A5D-2830-46F9-851B-1FF4534959BE.jpeg  \n",
            "  inflating: Dataset/Train/Covid/ae6c954c0039de4b5edee53865ffee43-e6c8-0.jpg  \n",
            "  inflating: Dataset/Train/Covid/all14238-fig-0001-m-b.jpg  \n",
            "  inflating: Dataset/Train/Covid/all14238-fig-0001-m-c.jpg  \n",
            "  inflating: Dataset/Train/Covid/auntminnie-a-2020_01_28_23_51_6665_2020_01_28_Vietnam_coronavirus.jpeg  \n",
            "  inflating: Dataset/Train/Covid/auntminnie-b-2020_01_28_23_51_6665_2020_01_28_Vietnam_coronavirus.jpeg  \n",
            "  inflating: Dataset/Train/Covid/auntminnie-c-2020_01_28_23_51_6665_2020_01_28_Vietnam_coronavirus.jpeg  \n",
            "  inflating: Dataset/Train/Covid/auntminnie-d-2020_01_28_23_51_6665_2020_01_28_Vietnam_coronavirus.jpeg  \n",
            "  inflating: Dataset/Train/Covid/ciaa199.pdf-001-a.png  \n",
            "  inflating: Dataset/Train/Covid/ciaa199.pdf-001-b.png  \n",
            "  inflating: Dataset/Train/Covid/ciaa199.pdf-001-c.png  \n",
            "  inflating: Dataset/Train/Covid/covid-19-caso-70-1-PA.jpg  \n",
            "  inflating: Dataset/Train/Covid/covid-19-infection-exclusive-gastrointestinal-symptoms-pa.png  \n",
            "  inflating: Dataset/Train/Covid/covid-19-pneumonia-12.jpg  \n",
            "  inflating: Dataset/Train/Covid/covid-19-pneumonia-14-PA.png  \n",
            "  inflating: Dataset/Train/Covid/covid-19-pneumonia-15-PA.jpg  \n",
            "  inflating: Dataset/Train/Covid/covid-19-pneumonia-19.jpg  \n",
            "  inflating: Dataset/Train/Covid/covid-19-pneumonia-2.jpg  \n",
            "  inflating: Dataset/Train/Covid/covid-19-pneumonia-20-pa-on-admission.jpg  \n",
            "  inflating: Dataset/Train/Covid/covid-19-pneumonia-20.jpg  \n",
            "  inflating: Dataset/Train/Covid/covid-19-pneumonia-22-day1-pa.png  \n",
            "  inflating: Dataset/Train/Covid/covid-19-pneumonia-22-day2-pa.png  \n",
            "  inflating: Dataset/Train/Covid/covid-19-pneumonia-28.png  \n",
            "  inflating: Dataset/Train/Covid/covid-19-pneumonia-30-PA.jpg  \n",
            "  inflating: Dataset/Train/Covid/covid-19-pneumonia-34.png  \n",
            "  inflating: Dataset/Train/Covid/covid-19-pneumonia-35-1.jpg  \n",
            "  inflating: Dataset/Train/Covid/covid-19-pneumonia-35-2.jpg  \n",
            "  inflating: Dataset/Train/Covid/covid-19-pneumonia-38-pa.jpg  \n",
            "  inflating: Dataset/Train/Covid/covid-19-pneumonia-44-day-0.jpeg  \n",
            "  inflating: Dataset/Train/Covid/covid-19-pneumonia-53.jpg  \n",
            "  inflating: Dataset/Train/Covid/covid-19-pneumonia-58-day-10.jpg  \n",
            "  inflating: Dataset/Train/Covid/covid-19-pneumonia-58-day-3.jpg  \n",
            "  inflating: Dataset/Train/Covid/covid-19-pneumonia-58-day-7.jpg  \n",
            "  inflating: Dataset/Train/Covid/covid-19-pneumonia-58-day-9.jpg  \n",
            "  inflating: Dataset/Train/Covid/covid-19-pneumonia-67.jpeg  \n",
            "  inflating: Dataset/Train/Covid/covid-19-pneumonia-7-PA.jpg  \n",
            "  inflating: Dataset/Train/Covid/covid-19-pneumonia-8.jpg  \n",
            "  inflating: Dataset/Train/Covid/covid-19-pneumonia-bilateral.jpg  \n",
            "  inflating: Dataset/Train/Covid/covid-19-pneumonia-evolution-over-a-week-1-day0-PA.jpg  \n",
            "  inflating: Dataset/Train/Covid/covid-19-pneumonia-mild.JPG  \n",
            "  inflating: Dataset/Train/Covid/extubation-1.jpg  \n",
            "  inflating: Dataset/Train/Covid/extubation-13.jpg  \n",
            "  inflating: Dataset/Train/Covid/extubation-4.jpg  \n",
            "  inflating: Dataset/Train/Covid/extubation-8.jpg  \n",
            "  inflating: Dataset/Train/Covid/fff49165-b22d-4bb4-b9d1-d5d62c52436c.annot.original.png  \n",
            "  inflating: Dataset/Train/Covid/figure1-5e71be566aa8714a04de3386-98-left.jpeg  \n",
            "  inflating: Dataset/Train/Covid/figure1-5e75d0940b71e1b702629659-98-right.jpeg  \n",
            "  inflating: Dataset/Train/Covid/gr1_lrg-a.jpg  \n",
            "  inflating: Dataset/Train/Covid/gr1_lrg-b.jpg  \n",
            "  inflating: Dataset/Train/Covid/kjr-21-e24-g001-l-a.jpg  \n",
            "  inflating: Dataset/Train/Covid/kjr-21-e24-g002-l-a.jpg  \n",
            "  inflating: Dataset/Train/Covid/kjr-21-e24-g003-l-a.jpg  \n",
            "  inflating: Dataset/Train/Covid/kjr-21-e25-g001-l-a.jpg  \n",
            "  inflating: Dataset/Train/Covid/lancet-case2a.jpg  \n",
            "  inflating: Dataset/Train/Covid/lancet-case2b.jpg  \n",
            "  inflating: Dataset/Train/Covid/nCoV-radiol.2020200269.fig1-day7.jpeg  \n",
            "  inflating: Dataset/Train/Covid/nejmc2001573_f1a.jpeg  \n",
            "  inflating: Dataset/Train/Covid/nejmc2001573_f1b.jpeg  \n",
            "  inflating: Dataset/Train/Covid/nejmoa2001191_f1-PA.jpeg  \n",
            "  inflating: Dataset/Train/Covid/nejmoa2001191_f3-PA.jpeg  \n",
            "  inflating: Dataset/Train/Covid/nejmoa2001191_f4.jpeg  \n",
            "  inflating: Dataset/Train/Covid/nejmoa2001191_f5-PA.jpeg  \n",
            "  inflating: Dataset/Train/Covid/paving.jpg  \n",
            "  inflating: Dataset/Train/Covid/radiol.2020200274.fig3d.png  \n",
            "  inflating: Dataset/Train/Covid/radiol.2020200490.fig3.jpeg  \n",
            "  inflating: Dataset/Train/Covid/ryct.2020200028.fig1a.jpeg  \n",
            "  inflating: Dataset/Train/Covid/ryct.2020200034.fig2.jpeg  \n",
            "  inflating: Dataset/Train/Covid/ryct.2020200034.fig5-day0.jpeg  \n",
            "  inflating: Dataset/Train/Covid/ryct.2020200034.fig5-day4.jpeg  \n",
            "  inflating: Dataset/Train/Covid/ryct.2020200034.fig5-day7.jpeg  \n",
            "  inflating: Dataset/Train/Covid/yxppt-2020-02-19_00-51-27_287214-day8.jpg  \n",
            "  inflating: Dataset/Train/Normal/IM-0140-0001.jpeg  \n",
            "  inflating: Dataset/Train/Normal/IM-0151-0001.jpeg  \n",
            "  inflating: Dataset/Train/Normal/IM-0158-0001.jpeg  \n",
            "  inflating: Dataset/Train/Normal/IM-0172-0001.jpeg  \n",
            "  inflating: Dataset/Train/Normal/IM-0189-0001.jpeg  \n",
            "  inflating: Dataset/Train/Normal/IM-0214-0001.jpeg  \n",
            "  inflating: Dataset/Train/Normal/IM-0215-0001.jpeg  \n",
            "  inflating: Dataset/Train/Normal/IM-0222-0001.jpeg  \n",
            "  inflating: Dataset/Train/Normal/IM-0235-0001.jpeg  \n",
            "  inflating: Dataset/Train/Normal/IM-0241-0001.jpeg  \n",
            "  inflating: Dataset/Train/Normal/IM-0243-0001.jpeg  \n",
            "  inflating: Dataset/Train/Normal/IM-0256-0001.jpeg  \n",
            "  inflating: Dataset/Train/Normal/IM-0272-0001.jpeg  \n",
            "  inflating: Dataset/Train/Normal/IM-0276-0001.jpeg  \n",
            "  inflating: Dataset/Train/Normal/IM-0292-0001.jpeg  \n",
            "  inflating: Dataset/Train/Normal/IM-0295-0001.jpeg  \n",
            "  inflating: Dataset/Train/Normal/IM-0311-0001.jpeg  \n",
            "  inflating: Dataset/Train/Normal/IM-0313-0001.jpeg  \n",
            "  inflating: Dataset/Train/Normal/IM-0347-0001.jpeg  \n",
            "  inflating: Dataset/Train/Normal/IM-0361-0001.jpeg  \n",
            "  inflating: Dataset/Train/Normal/IM-0374-0001.jpeg  \n",
            "  inflating: Dataset/Train/Normal/IM-0375-0001.jpeg  \n",
            "  inflating: Dataset/Train/Normal/IM-0377-0001.jpeg  \n",
            "  inflating: Dataset/Train/Normal/IM-0379-0001.jpeg  \n",
            "  inflating: Dataset/Train/Normal/IM-0395-0001.jpeg  \n",
            "  inflating: Dataset/Train/Normal/IM-0437-0001-0002.jpeg  \n",
            "  inflating: Dataset/Train/Normal/IM-0437-0001.jpeg  \n",
            "  inflating: Dataset/Train/Normal/IM-0439-0001.jpeg  \n",
            "  inflating: Dataset/Train/Normal/IM-0448-0001.jpeg  \n",
            "  inflating: Dataset/Train/Normal/IM-0449-0001.jpeg  \n",
            "  inflating: Dataset/Train/Normal/IM-0458-0001.jpeg  \n",
            "  inflating: Dataset/Train/Normal/IM-0478-0001.jpeg  \n",
            "  inflating: Dataset/Train/Normal/IM-0486-0001.jpeg  \n",
            "  inflating: Dataset/Train/Normal/IM-0492-0001.jpeg  \n",
            "  inflating: Dataset/Train/Normal/IM-0496-0001.jpeg  \n",
            "  inflating: Dataset/Train/Normal/IM-0497-0001-0001.jpeg  \n",
            "  inflating: Dataset/Train/Normal/IM-0502-0001.jpeg  \n",
            "  inflating: Dataset/Train/Normal/IM-0504-0001.jpeg  \n",
            "  inflating: Dataset/Train/Normal/IM-0506-0001.jpeg  \n",
            "  inflating: Dataset/Train/Normal/IM-0517-0001-0001.jpeg  \n",
            "  inflating: Dataset/Train/Normal/IM-0520-0001.jpeg  \n",
            "  inflating: Dataset/Train/Normal/IM-0523-0001-0002.jpeg  \n",
            "  inflating: Dataset/Train/Normal/IM-0523-0001.jpeg  \n",
            "  inflating: Dataset/Train/Normal/IM-0530-0001.jpeg  \n",
            "  inflating: Dataset/Train/Normal/IM-0531-0001-0001.jpeg  \n",
            "  inflating: Dataset/Train/Normal/IM-0549-0001.jpeg  \n",
            "  inflating: Dataset/Train/Normal/IM-0575-0001.jpeg  \n",
            "  inflating: Dataset/Train/Normal/IM-0598-0001.jpeg  \n",
            "  inflating: Dataset/Train/Normal/IM-0612-0001-0002.jpeg  \n",
            "  inflating: Dataset/Train/Normal/IM-0613-0001.jpeg  \n",
            "  inflating: Dataset/Train/Normal/IM-0622-0001-0002.jpeg  \n",
            "  inflating: Dataset/Train/Normal/IM-0623-0001.jpeg  \n",
            "  inflating: Dataset/Train/Normal/IM-0635-0001.jpeg  \n",
            "  inflating: Dataset/Train/Normal/IM-0650-0001-0002.jpeg  \n",
            "  inflating: Dataset/Train/Normal/IM-0656-0001.jpeg  \n",
            "  inflating: Dataset/Train/Normal/IM-0658-0001.jpeg  \n",
            "  inflating: Dataset/Train/Normal/IM-0673-0001.jpeg  \n",
            "  inflating: Dataset/Train/Normal/IM-0676-0001.jpeg  \n",
            "  inflating: Dataset/Train/Normal/IM-0681-0001.jpeg  \n",
            "  inflating: Dataset/Train/Normal/IM-0688-0001.jpeg  \n",
            "  inflating: Dataset/Train/Normal/IM-0691-0001.jpeg  \n",
            "  inflating: Dataset/Train/Normal/IM-0692-0001.jpeg  \n",
            "  inflating: Dataset/Train/Normal/IM-0700-0001.jpeg  \n",
            "  inflating: Dataset/Train/Normal/IM-0701-0001.jpeg  \n",
            "  inflating: Dataset/Train/Normal/IM-0704-0001.jpeg  \n",
            "  inflating: Dataset/Train/Normal/IM-0705-0001.jpeg  \n",
            "  inflating: Dataset/Train/Normal/IM-0706-0001.jpeg  \n",
            "  inflating: Dataset/Train/Normal/IM-0716-0001.jpeg  \n",
            "  inflating: Dataset/Train/Normal/IM-0732-0001.jpeg  \n",
            "  inflating: Dataset/Train/Normal/IM-0752-0001.jpeg  \n",
            "  inflating: Dataset/Train/Normal/NORMAL2-IM-0384-0001.jpeg  \n",
            "  inflating: Dataset/Train/Normal/NORMAL2-IM-0393-0001.jpeg  \n",
            "  inflating: Dataset/Train/Normal/NORMAL2-IM-0395-0001-0001.jpeg  \n",
            "  inflating: Dataset/Train/Normal/NORMAL2-IM-0433-0001.jpeg  \n",
            "  inflating: Dataset/Train/Normal/NORMAL2-IM-0439-0001.jpeg  \n",
            "  inflating: Dataset/Train/Normal/NORMAL2-IM-0449-0001.jpeg  \n",
            "  inflating: Dataset/Train/Normal/NORMAL2-IM-0462-0001.jpeg  \n",
            "  inflating: Dataset/Train/Normal/NORMAL2-IM-0472-0001.jpeg  \n",
            "  inflating: Dataset/Train/Normal/NORMAL2-IM-0482-0001.jpeg  \n",
            "  inflating: Dataset/Train/Normal/NORMAL2-IM-0497-0001.jpeg  \n",
            "  inflating: Dataset/Train/Normal/NORMAL2-IM-0552-0001.jpeg  \n",
            "  inflating: Dataset/Train/Normal/NORMAL2-IM-0555-0001-0001.jpeg  \n",
            "  inflating: Dataset/Train/Normal/NORMAL2-IM-0559-0001.jpeg  \n",
            "  inflating: Dataset/Train/Normal/NORMAL2-IM-0571-0001.jpeg  \n",
            "  inflating: Dataset/Train/Normal/NORMAL2-IM-0577-0001.jpeg  \n",
            "  inflating: Dataset/Train/Normal/NORMAL2-IM-0582-0001.jpeg  \n",
            "  inflating: Dataset/Train/Normal/NORMAL2-IM-0588-0001.jpeg  \n",
            "  inflating: Dataset/Train/Normal/NORMAL2-IM-0589-0001.jpeg  \n",
            "  inflating: Dataset/Train/Normal/NORMAL2-IM-0602-0001.jpeg  \n",
            "  inflating: Dataset/Train/Normal/NORMAL2-IM-0627-0001.jpeg  \n",
            "  inflating: Dataset/Train/Normal/NORMAL2-IM-0630-0001.jpeg  \n",
            "  inflating: Dataset/Train/Normal/NORMAL2-IM-0636-0001.jpeg  \n",
            "  inflating: Dataset/Train/Normal/NORMAL2-IM-0643-0001.jpeg  \n",
            "  inflating: Dataset/Train/Normal/NORMAL2-IM-0683-0001.jpeg  \n",
            "  inflating: Dataset/Train/Normal/NORMAL2-IM-0687-0001.jpeg  \n",
            "  inflating: Dataset/Train/Normal/NORMAL2-IM-0689-0001.jpeg  \n",
            "  inflating: Dataset/Train/Normal/NORMAL2-IM-0692-0001.jpeg  \n",
            "  inflating: Dataset/Train/Normal/NORMAL2-IM-0693-0001.jpeg  \n",
            "  inflating: Dataset/Train/Normal/NORMAL2-IM-0694-0001.jpeg  \n",
            "  inflating: Dataset/Train/Normal/NORMAL2-IM-0771-0001.jpeg  \n",
            "  inflating: Dataset/Train/Normal/NORMAL2-IM-0775-0001.jpeg  \n",
            "  inflating: Dataset/Train/Normal/NORMAL2-IM-0776-0001.jpeg  \n",
            "  inflating: Dataset/Train/Normal/NORMAL2-IM-0790-0001.jpeg  \n",
            "  inflating: Dataset/Train/Normal/NORMAL2-IM-0807-0001.jpeg  \n",
            "  inflating: Dataset/Train/Normal/NORMAL2-IM-0816-0001.jpeg  \n",
            "  inflating: Dataset/Train/Normal/NORMAL2-IM-0842-0001.jpeg  \n",
            "  inflating: Dataset/Train/Normal/NORMAL2-IM-0858-0001.jpeg  \n",
            "  inflating: Dataset/Train/Normal/NORMAL2-IM-0866-0001.jpeg  \n",
            "  inflating: Dataset/Train/Normal/NORMAL2-IM-0876-0001.jpeg  \n",
            "  inflating: Dataset/Train/Normal/NORMAL2-IM-0892-0001.jpeg  \n",
            "  inflating: Dataset/Train/Normal/NORMAL2-IM-0911-0001.jpeg  \n",
            "  inflating: Dataset/Train/Normal/NORMAL2-IM-0915-0001.jpeg  \n",
            "  inflating: Dataset/Train/Normal/NORMAL2-IM-0927-0001.jpeg  \n",
            "  inflating: Dataset/Train/Normal/NORMAL2-IM-0942-0001.jpeg  \n",
            "  inflating: Dataset/Train/Normal/NORMAL2-IM-0947-0001.jpeg  \n",
            "  inflating: Dataset/Train/Normal/NORMAL2-IM-0959-0001.jpeg  \n",
            "  inflating: Dataset/Train/Normal/NORMAL2-IM-0967-0001.jpeg  \n",
            "  inflating: Dataset/Train/Normal/NORMAL2-IM-0977-0001.jpeg  \n",
            "  inflating: Dataset/Train/Normal/NORMAL2-IM-0978-0001.jpeg  \n",
            "  inflating: Dataset/Train/Normal/NORMAL2-IM-0999-0001.jpeg  \n",
            "  inflating: Dataset/Train/Normal/NORMAL2-IM-1010-0001.jpeg  \n",
            "  inflating: Dataset/Train/Normal/NORMAL2-IM-1014-0001.jpeg  \n",
            "  inflating: Dataset/Train/Normal/NORMAL2-IM-1022-0001.jpeg  \n",
            "  inflating: Dataset/Train/Normal/NORMAL2-IM-1037-0001.jpeg  \n",
            "  inflating: Dataset/Train/Normal/NORMAL2-IM-1040-0001.jpeg  \n",
            "  inflating: Dataset/Train/Normal/NORMAL2-IM-1094-0001-0001.jpeg  \n",
            "  inflating: Dataset/Train/Normal/NORMAL2-IM-1096-0001-0001.jpeg  \n",
            "  inflating: Dataset/Train/Normal/NORMAL2-IM-1102-0001-0002.jpeg  \n",
            "  inflating: Dataset/Train/Normal/NORMAL2-IM-1112-0001.jpeg  \n",
            "  inflating: Dataset/Train/Normal/NORMAL2-IM-1142-0001-0001.jpeg  \n",
            "  inflating: Dataset/Train/Normal/NORMAL2-IM-1154-0001.jpeg  \n",
            "  inflating: Dataset/Train/Normal/NORMAL2-IM-1156-0001.jpeg  \n",
            "  inflating: Dataset/Train/Normal/NORMAL2-IM-1164-0001.jpeg  \n",
            "  inflating: Dataset/Train/Normal/NORMAL2-IM-1182-0001.jpeg  \n",
            "  inflating: Dataset/Train/Normal/NORMAL2-IM-1250-0001.jpeg  \n",
            "  inflating: Dataset/Train/Normal/NORMAL2-IM-1261-0001.jpeg  \n",
            "  inflating: Dataset/Train/Normal/NORMAL2-IM-1264-0001.jpeg  \n",
            "  inflating: Dataset/Train/Normal/NORMAL2-IM-1274-0001.jpeg  \n",
            "  inflating: Dataset/Train/Normal/NORMAL2-IM-1289-0001.jpeg  \n",
            "  inflating: Dataset/Train/Normal/NORMAL2-IM-1294-0001-0001.jpeg  \n",
            "  inflating: Dataset/Train/Normal/NORMAL2-IM-1342-0001.jpeg  \n",
            "  inflating: Dataset/Train/Normal/NORMAL2-IM-1347-0001.jpeg  \n",
            "  inflating: Dataset/Train/Normal/NORMAL2-IM-1356-0001.jpeg  \n",
            "  inflating: Dataset/Train/Normal/NORMAL2-IM-1396-0001.jpeg  \n",
            "  inflating: Dataset/Val/Covid/16654_1_1.png  \n",
            "  inflating: Dataset/Val/Covid/16654_2_1.jpg  \n",
            "  inflating: Dataset/Val/Covid/16654_4_1.jpg  \n",
            "  inflating: Dataset/Val/Covid/23E99E2E-447C-46E5-8EB2-D35D12473C39.png  \n",
            "  inflating: Dataset/Val/Covid/31BA3780-2323-493F-8AED-62081B9C383B.jpeg  \n",
            "  inflating: Dataset/Val/Covid/353889E0-A1E8-4F9E-A0B8-F24F36BCFBFB.jpeg  \n",
            "  inflating: Dataset/Val/Covid/4-x-day1.jpg  \n",
            "  inflating: Dataset/Val/Covid/41591_2020_819_Fig1_HTML.webp-day10.png  \n",
            "  inflating: Dataset/Val/Covid/41591_2020_819_Fig1_HTML.webp-day5.png  \n",
            "  inflating: Dataset/Val/Covid/4e43e48d52c9e2d4c6c1fb9bc1544f_jumbo.jpeg  \n",
            "  inflating: Dataset/Val/Covid/53EC07C9-5CC6-4BE4-9B6F-D7B0D72AAA7E.jpeg  \n",
            "  inflating: Dataset/Val/Covid/58cb9263f16e94305c730685358e4e_jumbo.jpeg  \n",
            "  inflating: Dataset/Val/Covid/6C94A287-C059-46A0-8600-AFB95F4727B7.jpeg  \n",
            "  inflating: Dataset/Val/Covid/6CB4EFC6-68FA-4CD5-940C-BEFA8DAFE9A7.jpeg  \n",
            "  inflating: Dataset/Val/Covid/6b3bdbc31f65230b8cdcc3cef5f8ba8a-40ac-0.jpg  \n",
            "  inflating: Dataset/Val/Covid/6b44464d-73a7-4cf3-bbb6-ffe7168300e3.annot.original.jpeg  \n",
            "  inflating: Dataset/Val/Covid/7AF6C1AF-D249-4BD2-8C26-449304105D03.jpeg  \n",
            "  inflating: Dataset/Val/Covid/7C69C012-7479-493F-8722-ABC29C60A2DD.jpeg  \n",
            "  inflating: Dataset/Val/Covid/85E52EB3-56E9-4D67-82DA-DEA247C82886.jpeg  \n",
            "  inflating: Dataset/Val/Covid/88de9d8c39e946abd495b37cd07d89e5-2ee6-0.jpg  \n",
            "  inflating: Dataset/Val/Covid/88de9d8c39e946abd495b37cd07d89e5-6531-0.jpg  \n",
            "  inflating: Dataset/Val/Covid/B2D20576-00B7-4519-A415-72DE29C90C34.jpeg  \n",
            "  inflating: Dataset/Val/Covid/auntminnie-c-2020_01_28_23_51_6665_2020_01_28_Vietnam_coronavirus.jpeg  \n",
            "  inflating: Dataset/Val/Covid/auntminnie-d-2020_01_28_23_51_6665_2020_01_28_Vietnam_coronavirus.jpeg  \n",
            "  inflating: Dataset/Val/Covid/covid-19-pneumonia-12.jpg  \n",
            "  inflating: Dataset/Val/Covid/covid-19-pneumonia-14-PA.png  \n",
            "  inflating: Dataset/Val/Covid/covid-19-pneumonia-35-1.jpg  \n",
            "  inflating: Dataset/Val/Covid/covid-19-pneumonia-35-2.jpg  \n",
            "  inflating: Dataset/Val/Covid/covid-19-pneumonia-53.jpg  \n",
            "  inflating: Dataset/Val/Covid/covid-19-pneumonia-8.jpg  \n",
            "  inflating: Dataset/Val/Normal/NORMAL2-IM-0395-0001.jpeg  \n",
            "  inflating: Dataset/Val/Normal/NORMAL2-IM-0408-0001.jpeg  \n",
            "  inflating: Dataset/Val/Normal/NORMAL2-IM-0416-0001-0001.jpeg  \n",
            "  inflating: Dataset/Val/Normal/NORMAL2-IM-0441-0001.jpeg  \n",
            "  inflating: Dataset/Val/Normal/NORMAL2-IM-0462-0001.jpeg  \n",
            "  inflating: Dataset/Val/Normal/NORMAL2-IM-0535-0001-0002.jpeg  \n",
            "  inflating: Dataset/Val/Normal/NORMAL2-IM-0652-0001.jpeg  \n",
            "  inflating: Dataset/Val/Normal/NORMAL2-IM-0678-0001.jpeg  \n",
            "  inflating: Dataset/Val/Normal/NORMAL2-IM-0730-0001.jpeg  \n",
            "  inflating: Dataset/Val/Normal/NORMAL2-IM-0765-0001.jpeg  \n",
            "  inflating: Dataset/Val/Normal/NORMAL2-IM-0790-0001.jpeg  \n",
            "  inflating: Dataset/Val/Normal/NORMAL2-IM-0842-0001.jpeg  \n",
            "  inflating: Dataset/Val/Normal/NORMAL2-IM-0851-0001-0001.jpeg  \n",
            "  inflating: Dataset/Val/Normal/NORMAL2-IM-0851-0001.jpeg  \n",
            "  inflating: Dataset/Val/Normal/NORMAL2-IM-0857-0001.jpeg  \n",
            "  inflating: Dataset/Val/Normal/NORMAL2-IM-0859-0001.jpeg  \n",
            "  inflating: Dataset/Val/Normal/NORMAL2-IM-0869-0001.jpeg  \n",
            "  inflating: Dataset/Val/Normal/NORMAL2-IM-0873-0001.jpeg  \n",
            "  inflating: Dataset/Val/Normal/NORMAL2-IM-0894-0001.jpeg  \n",
            "  inflating: Dataset/Val/Normal/NORMAL2-IM-0905-0001.jpeg  \n",
            "  inflating: Dataset/Val/Normal/NORMAL2-IM-0914-0001.jpeg  \n",
            "  inflating: Dataset/Val/Normal/NORMAL2-IM-1022-0001.jpeg  \n",
            "  inflating: Dataset/Val/Normal/NORMAL2-IM-1037-0001.jpeg  \n",
            "  inflating: Dataset/Val/Normal/NORMAL2-IM-1045-0001.jpeg  \n",
            "  inflating: Dataset/Val/Normal/NORMAL2-IM-1060-0001.jpeg  \n",
            "  inflating: Dataset/Val/Normal/NORMAL2-IM-1191-0001.jpeg  \n",
            "  inflating: Dataset/Val/Normal/NORMAL2-IM-1228-0001.jpeg  \n",
            "  inflating: Dataset/Val/Normal/NORMAL2-IM-1237-0001.jpeg  \n",
            "  inflating: Dataset/Val/Normal/NORMAL2-IM-1240-0001.jpeg  \n",
            "  inflating: Dataset/Val/Normal/NORMAL2-IM-1275-0001.jpeg  \n"
          ]
        }
      ]
    },
    {
      "cell_type": "code",
      "source": [
        "from tensorflow.keras.preprocessing.image import ImageDataGenerator\n"
      ],
      "metadata": {
        "id": "nEf7ZI9zEVmD"
      },
      "execution_count": 6,
      "outputs": []
    },
    {
      "cell_type": "code",
      "source": [
        "train_datagen=ImageDataGenerator(rescale=1./255,zoom_range=0.2,horizontal_flip=True)"
      ],
      "metadata": {
        "id": "F1o7dVvMEVoo"
      },
      "execution_count": 7,
      "outputs": []
    },
    {
      "cell_type": "code",
      "source": [
        "test_datagen=ImageDataGenerator(rescale=1./255)"
      ],
      "metadata": {
        "id": "U-x_aYD4EVqe"
      },
      "execution_count": 8,
      "outputs": []
    },
    {
      "cell_type": "code",
      "source": [
        "x_train=train_datagen.flow_from_directory(\"/content/Dataset/Train\",target_size=(64,64),class_mode='binary',batch_size=100)"
      ],
      "metadata": {
        "colab": {
          "base_uri": "https://localhost:8080/"
        },
        "id": "nz_HcfGjEVtA",
        "outputId": "8317d5ee-df09-4df6-ae4b-c0753cf2a81e"
      },
      "execution_count": 9,
      "outputs": [
        {
          "output_type": "stream",
          "name": "stdout",
          "text": [
            "Found 288 images belonging to 2 classes.\n"
          ]
        }
      ]
    },
    {
      "cell_type": "code",
      "source": [
        "x_test=test_datagen.flow_from_directory(\"/content/Dataset/Val\",target_size=(64,64),class_mode='binary',batch_size=100)"
      ],
      "metadata": {
        "colab": {
          "base_uri": "https://localhost:8080/"
        },
        "id": "s3TaZctMEVy_",
        "outputId": "ced3cfb9-9bc2-4d97-9599-af9c2c6a4a5b"
      },
      "execution_count": 10,
      "outputs": [
        {
          "output_type": "stream",
          "name": "stdout",
          "text": [
            "Found 60 images belonging to 2 classes.\n"
          ]
        }
      ]
    },
    {
      "cell_type": "markdown",
      "source": [
        "Model_building"
      ],
      "metadata": {
        "id": "CO8iqFbDHWO8"
      }
    },
    {
      "cell_type": "code",
      "source": [
        "#cnn model\n",
        "\n",
        "from tensorflow.keras.models import Sequential\n",
        "from tensorflow.keras.layers import Dense,Convolution2D,MaxPooling2D,Flatten\n",
        "\n",
        "\n"
      ],
      "metadata": {
        "id": "gMVQ0rKbEVz3"
      },
      "execution_count": 11,
      "outputs": []
    },
    {
      "cell_type": "code",
      "source": [
        "model=Sequential()"
      ],
      "metadata": {
        "id": "17M5GYziHU-Q"
      },
      "execution_count": 12,
      "outputs": []
    },
    {
      "cell_type": "code",
      "source": [
        "model.add(Convolution2D(32,(3,3),strides=(1,1),activation=\"relu\",input_shape=(64,64,3)))#convolution\n",
        "model.add(MaxPooling2D(pool_size=(2,2)))#pooling\n",
        "model.add(Flatten())#flatten\n",
        "\n",
        "model.add(Dense(300,activation=\"relu\"))#hidden Layer1\n",
        "\n",
        "model.add(Dense(150,activation=\"relu\"))#hidden Layer2\n",
        "\n",
        "\n",
        "model.add(Dense(1,activation='sigmoid')) #output layer"
      ],
      "metadata": {
        "id": "T4w0Sx8gHVAZ"
      },
      "execution_count": 13,
      "outputs": []
    },
    {
      "cell_type": "code",
      "source": [
        "model.compile(optimizer='adam',loss='binary_crossentropy',metrics=['accuracy'])"
      ],
      "metadata": {
        "id": "opmaSaibHVDi"
      },
      "execution_count": 14,
      "outputs": []
    },
    {
      "cell_type": "code",
      "source": [
        "model.fit(x_train,steps_per_epoch=len(x_train),epochs=30,validation_data = x_test,validation_steps = len(x_test))"
      ],
      "metadata": {
        "colab": {
          "base_uri": "https://localhost:8080/"
        },
        "id": "JrFhhfzCHVG7",
        "outputId": "9382131e-0aa4-48b8-e62e-fd51f3db8b48"
      },
      "execution_count": 15,
      "outputs": [
        {
          "output_type": "stream",
          "name": "stdout",
          "text": [
            "Epoch 1/30\n",
            "3/3 [==============================] - 13s 5s/step - loss: 1.8578 - accuracy: 0.4375 - val_loss: 1.2755 - val_accuracy: 0.5000\n",
            "Epoch 2/30\n",
            "3/3 [==============================] - 10s 4s/step - loss: 0.7839 - accuracy: 0.5625 - val_loss: 0.4267 - val_accuracy: 0.9333\n",
            "Epoch 3/30\n",
            "3/3 [==============================] - 12s 4s/step - loss: 0.4959 - accuracy: 0.7674 - val_loss: 0.3054 - val_accuracy: 0.9333\n",
            "Epoch 4/30\n",
            "3/3 [==============================] - 10s 4s/step - loss: 0.3812 - accuracy: 0.8125 - val_loss: 0.2373 - val_accuracy: 0.9333\n",
            "Epoch 5/30\n",
            "3/3 [==============================] - 10s 3s/step - loss: 0.2743 - accuracy: 0.9201 - val_loss: 0.1703 - val_accuracy: 0.9500\n",
            "Epoch 6/30\n",
            "3/3 [==============================] - 10s 4s/step - loss: 0.2211 - accuracy: 0.9201 - val_loss: 0.1988 - val_accuracy: 0.9500\n",
            "Epoch 7/30\n",
            "3/3 [==============================] - 10s 3s/step - loss: 0.1768 - accuracy: 0.9549 - val_loss: 0.1050 - val_accuracy: 0.9500\n",
            "Epoch 8/30\n",
            "3/3 [==============================] - 11s 4s/step - loss: 0.1695 - accuracy: 0.9410 - val_loss: 0.1312 - val_accuracy: 0.9667\n",
            "Epoch 9/30\n",
            "3/3 [==============================] - 12s 4s/step - loss: 0.1438 - accuracy: 0.9479 - val_loss: 0.0734 - val_accuracy: 0.9667\n",
            "Epoch 10/30\n",
            "3/3 [==============================] - 11s 4s/step - loss: 0.1777 - accuracy: 0.9410 - val_loss: 0.0669 - val_accuracy: 1.0000\n",
            "Epoch 11/30\n",
            "3/3 [==============================] - 9s 3s/step - loss: 0.1245 - accuracy: 0.9583 - val_loss: 0.0708 - val_accuracy: 1.0000\n",
            "Epoch 12/30\n",
            "3/3 [==============================] - 11s 3s/step - loss: 0.0965 - accuracy: 0.9722 - val_loss: 0.0582 - val_accuracy: 0.9667\n",
            "Epoch 13/30\n",
            "3/3 [==============================] - 9s 3s/step - loss: 0.1123 - accuracy: 0.9583 - val_loss: 0.0938 - val_accuracy: 1.0000\n",
            "Epoch 14/30\n",
            "3/3 [==============================] - 12s 5s/step - loss: 0.0993 - accuracy: 0.9514 - val_loss: 0.0788 - val_accuracy: 0.9667\n",
            "Epoch 15/30\n",
            "3/3 [==============================] - 10s 3s/step - loss: 0.1287 - accuracy: 0.9583 - val_loss: 0.1437 - val_accuracy: 0.9333\n",
            "Epoch 16/30\n",
            "3/3 [==============================] - 11s 4s/step - loss: 0.1148 - accuracy: 0.9549 - val_loss: 0.0525 - val_accuracy: 0.9667\n",
            "Epoch 17/30\n",
            "3/3 [==============================] - 8s 3s/step - loss: 0.1174 - accuracy: 0.9653 - val_loss: 0.0394 - val_accuracy: 0.9667\n",
            "Epoch 18/30\n",
            "3/3 [==============================] - 11s 4s/step - loss: 0.0853 - accuracy: 0.9722 - val_loss: 0.0540 - val_accuracy: 1.0000\n",
            "Epoch 19/30\n",
            "3/3 [==============================] - 9s 4s/step - loss: 0.0837 - accuracy: 0.9653 - val_loss: 0.0376 - val_accuracy: 0.9667\n",
            "Epoch 20/30\n",
            "3/3 [==============================] - 11s 4s/step - loss: 0.0781 - accuracy: 0.9757 - val_loss: 0.0286 - val_accuracy: 1.0000\n",
            "Epoch 21/30\n",
            "3/3 [==============================] - 14s 5s/step - loss: 0.0745 - accuracy: 0.9792 - val_loss: 0.0283 - val_accuracy: 1.0000\n",
            "Epoch 22/30\n",
            "3/3 [==============================] - 9s 3s/step - loss: 0.0757 - accuracy: 0.9826 - val_loss: 0.0311 - val_accuracy: 1.0000\n",
            "Epoch 23/30\n",
            "3/3 [==============================] - 11s 4s/step - loss: 0.0666 - accuracy: 0.9792 - val_loss: 0.0353 - val_accuracy: 0.9833\n",
            "Epoch 24/30\n",
            "3/3 [==============================] - 11s 4s/step - loss: 0.0669 - accuracy: 0.9757 - val_loss: 0.0308 - val_accuracy: 1.0000\n",
            "Epoch 25/30\n",
            "3/3 [==============================] - 11s 4s/step - loss: 0.0711 - accuracy: 0.9792 - val_loss: 0.0328 - val_accuracy: 0.9833\n",
            "Epoch 26/30\n",
            "3/3 [==============================] - 9s 3s/step - loss: 0.0687 - accuracy: 0.9722 - val_loss: 0.0439 - val_accuracy: 1.0000\n",
            "Epoch 27/30\n",
            "3/3 [==============================] - 10s 4s/step - loss: 0.0608 - accuracy: 0.9757 - val_loss: 0.0209 - val_accuracy: 1.0000\n",
            "Epoch 28/30\n",
            "3/3 [==============================] - 10s 3s/step - loss: 0.0720 - accuracy: 0.9757 - val_loss: 0.0239 - val_accuracy: 1.0000\n",
            "Epoch 29/30\n",
            "3/3 [==============================] - 12s 4s/step - loss: 0.0619 - accuracy: 0.9826 - val_loss: 0.0631 - val_accuracy: 1.0000\n",
            "Epoch 30/30\n",
            "3/3 [==============================] - 11s 4s/step - loss: 0.0849 - accuracy: 0.9757 - val_loss: 0.0323 - val_accuracy: 0.9833\n"
          ]
        },
        {
          "output_type": "execute_result",
          "data": {
            "text/plain": [
              "<keras.callbacks.History at 0x7d581c07a260>"
            ]
          },
          "metadata": {},
          "execution_count": 15
        }
      ]
    },
    {
      "cell_type": "code",
      "source": [
        "#save the model\n",
        "\n",
        "model.save(\"covid.h5\")"
      ],
      "metadata": {
        "id": "qEFfUajRKWJy"
      },
      "execution_count": 16,
      "outputs": []
    },
    {
      "cell_type": "code",
      "source": [
        "#testing data\n",
        "from tensorflow.keras.preprocessing import image\n",
        "import numpy as np"
      ],
      "metadata": {
        "id": "nhHyfoOYMy6n"
      },
      "execution_count": 17,
      "outputs": []
    },
    {
      "cell_type": "code",
      "source": [
        "img=image.load_img(\"/content/Dataset/Train/Covid/01E392EE-69F9-4E33-BFCE-E5C968654078.jpeg\",target_size=(64,64))\n",
        "img"
      ],
      "metadata": {
        "colab": {
          "base_uri": "https://localhost:8080/",
          "height": 81
        },
        "id": "2XmaDeRHMy3P",
        "outputId": "237dde07-ffe7-434e-d122-ccd285564b30"
      },
      "execution_count": 18,
      "outputs": [
        {
          "output_type": "execute_result",
          "data": {
            "text/plain": [
              "<PIL.Image.Image image mode=RGB size=64x64>"
            ],
            "image/png": "[encoded data removed]"
          },
          "metadata": {},
          "execution_count": 18
        }
      ]
    },
    {
      "cell_type": "code",
      "source": [
        "x=image.img_to_array(img)"
      ],
      "metadata": {
        "id": "eQRmejQpMy07"
      },
      "execution_count": 19,
      "outputs": []
    },
    {
      "cell_type": "code",
      "source": [
        "x=np.expand_dims(x,axis=0)\n",
        "y = (model.predict(x) > 0.5).astype(int)\n",
        "if(y==1):\n",
        "  print(\"Normal\")\n",
        "else:\n",
        "  print(\"Covid\")"
      ],
      "metadata": {
        "colab": {
          "base_uri": "https://localhost:8080/"
        },
        "id": "HjI8n14rMyyS",
        "outputId": "4869d598-5cbf-42ed-ce89-b96eeb33a5f3"
      },
      "execution_count": 20,
      "outputs": [
        {
          "output_type": "stream",
          "name": "stdout",
          "text": [
            "1/1 [==============================] - 0s 157ms/step\n",
            "Covid\n"
          ]
        }
      ]
    },
    {
      "cell_type": "code",
      "source": [
        "#testing 2\n",
        "img=image.load_img(\"/content/Dataset/Prediction/NORMAL2-IM-0374-0001.jpeg\",target_size=(64,64))\n",
        "x=image.img_to_array(img)\n",
        "x=np.expand_dims(x,axis=0)\n",
        "y = (model.predict(x) > 0.5).astype(int)\n",
        "if(y==1):\n",
        "  print(\"Normal\")\n",
        "else:\n",
        "  print(\"Covid\")"
      ],
      "metadata": {
        "colab": {
          "base_uri": "https://localhost:8080/"
        },
        "id": "bTs5lFmPOhR4",
        "outputId": "a06d7d84-4dec-4b11-f3b3-1e4565b0efdd"
      },
      "execution_count": 21,
      "outputs": [
        {
          "output_type": "stream",
          "name": "stdout",
          "text": [
            "1/1 [==============================] - 0s 29ms/step\n",
            "Normal\n"
          ]
        }
      ]
    }
  ]
}